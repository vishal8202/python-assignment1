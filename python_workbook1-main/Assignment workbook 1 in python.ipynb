{
 "cells": [
  {
   "cell_type": "markdown",
   "id": "54210d3c",
   "metadata": {},
   "source": [
    "# Problem:1 (variables)"
   ]
  },
  {
   "cell_type": "markdown",
   "id": "66535780",
   "metadata": {},
   "source": [
    "### write a python program to print the following string in a specific format"
   ]
  },
  {
   "cell_type": "code",
   "execution_count": 1,
   "id": "f5fb4432",
   "metadata": {},
   "outputs": [
    {
     "name": "stdout",
     "output_type": "stream",
     "text": [
      "      Twinkle,twinkle,little star,\n",
      "          How I wonder what you are!\n",
      "            Up above the world so high,\n",
      "            Like a diamond in the sky.\n",
      "      Twinkle,twinkle,little star,\n",
      "         How I wonder what you are\n"
     ]
    }
   ],
   "source": [
    "print(\"      Twinkle,twinkle,little star,\")\n",
    "print(\"          How I wonder what you are!\")\n",
    "print(\"            Up above the world so high,\")\n",
    "print(\"            Like a diamond in the sky.\")\n",
    "print(\"      Twinkle,twinkle,little star,\")\n",
    "print(\"         How I wonder what you are\")"
   ]
  },
  {
   "cell_type": "markdown",
   "id": "9aaa32f3",
   "metadata": {},
   "source": [
    "# Problem 2(Numbers)"
   ]
  },
  {
   "cell_type": "markdown",
   "id": "53d3d50f",
   "metadata": {},
   "source": [
    "### Write the python program which accepts the radius of a circle from the user and compute the area"
   ]
  },
  {
   "cell_type": "code",
   "execution_count": 3,
   "id": "d83d7b93",
   "metadata": {},
   "outputs": [
    {
     "data": {
      "text/plain": [
       "28.26"
      ]
     },
     "execution_count": 3,
     "metadata": {},
     "output_type": "execute_result"
    }
   ],
   "source": [
    "def radius(rad):\n",
    "    pi = 3.14\n",
    "    area = (rad**2) * pi\n",
    "    return area\n",
    "    \n",
    "radius(3)    "
   ]
  },
  {
   "cell_type": "markdown",
   "id": "5139860f",
   "metadata": {},
   "source": [
    "# Problem 3(Pizza)"
   ]
  },
  {
   "cell_type": "markdown",
   "id": "06642339",
   "metadata": {},
   "source": [
    "### One extract large 18 degree pizza costs as much as two medium 12 degree pizzas. If I wanted to get the pizza possible should I buy one 18 degree or two 12 degree pizzas?"
   ]
  },
  {
   "cell_type": "code",
   "execution_count": 1,
   "id": "e320a7cd",
   "metadata": {},
   "outputs": [],
   "source": [
    "def area1(p1,p2):\n",
    "    radius_p1 = p1/2\n",
    "    radius_p2 = p2/2\n",
    "    pi = 3.14\n",
    "    area_of_p1 = (radius_p1 ** 2)*pi\n",
    "    area_of_p2 = (radius_p2 ** 2)*pi\n",
    "    Total_radius_p2 = area_of_p2 * 2\n",
    "    if(area_of_p1>Total_radius_p2):\n",
    "        print(\"Pizza 1 is larger\")\n",
    "    else:\n",
    "        print(\"Pizza 2 is larger\")"
   ]
  },
  {
   "cell_type": "code",
   "execution_count": 2,
   "id": "ea5e16ae",
   "metadata": {},
   "outputs": [
    {
     "name": "stdout",
     "output_type": "stream",
     "text": [
      "Pizza 1 is larger\n"
     ]
    }
   ],
   "source": [
    "area1(18,12)"
   ]
  },
  {
   "cell_type": "code",
   "execution_count": null,
   "id": "3eb6e19d",
   "metadata": {},
   "outputs": [],
   "source": []
  }
 ],
 "metadata": {
  "kernelspec": {
   "display_name": "Python 3 (ipykernel)",
   "language": "python",
   "name": "python3"
  },
  "language_info": {
   "codemirror_mode": {
    "name": "ipython",
    "version": 3
   },
   "file_extension": ".py",
   "mimetype": "text/x-python",
   "name": "python",
   "nbconvert_exporter": "python",
   "pygments_lexer": "ipython3",
   "version": "3.9.12"
  }
 },
 "nbformat": 4,
 "nbformat_minor": 5
}
